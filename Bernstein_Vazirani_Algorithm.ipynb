{
  "nbformat": 4,
  "nbformat_minor": 0,
  "metadata": {
    "colab": {
      "name": "Bernstein-Vazirani Algorithm.ipynb",
      "provenance": [],
      "authorship_tag": "ABX9TyM3y2ufhb3fyfNDu9MCLNbm",
      "include_colab_link": true
    },
    "kernelspec": {
      "name": "python3",
      "display_name": "Python 3"
    },
    "language_info": {
      "name": "python"
    }
  },
  "cells": [
    {
      "cell_type": "markdown",
      "metadata": {
        "id": "view-in-github",
        "colab_type": "text"
      },
      "source": [
        "<a href=\"https://colab.research.google.com/github/ronil1508/SOC-2022_QML/blob/main/Bernstein_Vazirani_Algorithm.ipynb\" target=\"_parent\"><img src=\"https://colab.research.google.com/assets/colab-badge.svg\" alt=\"Open In Colab\"/></a>"
      ]
    },
    {
      "cell_type": "code",
      "execution_count": 13,
      "metadata": {
        "colab": {
          "base_uri": "https://localhost:8080/"
        },
        "id": "FOpb7AM-cZjx",
        "outputId": "fd20c81f-86d0-4063-bfe4-b79dfb526259"
      },
      "outputs": [
        {
          "output_type": "stream",
          "name": "stdout",
          "text": [
            "Looking in indexes: https://pypi.org/simple, https://us-python.pkg.dev/colab-wheels/public/simple/\n",
            "Requirement already satisfied: qiskit in /usr/local/lib/python3.7/dist-packages (0.36.2)\n",
            "Requirement already satisfied: qiskit-terra==0.20.2 in /usr/local/lib/python3.7/dist-packages (from qiskit) (0.20.2)\n",
            "Requirement already satisfied: qiskit-ignis==0.7.1 in /usr/local/lib/python3.7/dist-packages (from qiskit) (0.7.1)\n",
            "Requirement already satisfied: qiskit-aer==0.10.4 in /usr/local/lib/python3.7/dist-packages (from qiskit) (0.10.4)\n",
            "Requirement already satisfied: qiskit-ibmq-provider==0.19.1 in /usr/local/lib/python3.7/dist-packages (from qiskit) (0.19.1)\n",
            "Requirement already satisfied: scipy>=1.0 in /usr/local/lib/python3.7/dist-packages (from qiskit-aer==0.10.4->qiskit) (1.7.3)\n",
            "Requirement already satisfied: numpy>=1.16.3 in /usr/local/lib/python3.7/dist-packages (from qiskit-aer==0.10.4->qiskit) (1.21.6)\n",
            "Requirement already satisfied: python-dateutil>=2.8.0 in /usr/local/lib/python3.7/dist-packages (from qiskit-ibmq-provider==0.19.1->qiskit) (2.8.2)\n",
            "Requirement already satisfied: urllib3>=1.21.1 in /usr/local/lib/python3.7/dist-packages (from qiskit-ibmq-provider==0.19.1->qiskit) (1.24.3)\n",
            "Requirement already satisfied: requests>=2.19 in /usr/local/lib/python3.7/dist-packages (from qiskit-ibmq-provider==0.19.1->qiskit) (2.23.0)\n",
            "Requirement already satisfied: websockets>=10.0 in /usr/local/lib/python3.7/dist-packages (from qiskit-ibmq-provider==0.19.1->qiskit) (10.3)\n",
            "Requirement already satisfied: requests-ntlm>=1.1.0 in /usr/local/lib/python3.7/dist-packages (from qiskit-ibmq-provider==0.19.1->qiskit) (1.1.0)\n",
            "Requirement already satisfied: websocket-client>=1.0.1 in /usr/local/lib/python3.7/dist-packages (from qiskit-ibmq-provider==0.19.1->qiskit) (1.3.2)\n",
            "Requirement already satisfied: setuptools>=40.1.0 in /usr/local/lib/python3.7/dist-packages (from qiskit-ignis==0.7.1->qiskit) (57.4.0)\n",
            "Requirement already satisfied: retworkx>=0.8.0 in /usr/local/lib/python3.7/dist-packages (from qiskit-ignis==0.7.1->qiskit) (0.11.0)\n",
            "Requirement already satisfied: stevedore>=3.0.0 in /usr/local/lib/python3.7/dist-packages (from qiskit-terra==0.20.2->qiskit) (3.5.0)\n",
            "Requirement already satisfied: tweedledum<2.0,>=1.1 in /usr/local/lib/python3.7/dist-packages (from qiskit-terra==0.20.2->qiskit) (1.1.1)\n",
            "Requirement already satisfied: python-constraint>=1.4 in /usr/local/lib/python3.7/dist-packages (from qiskit-terra==0.20.2->qiskit) (1.4.0)\n",
            "Requirement already satisfied: sympy>=1.3 in /usr/local/lib/python3.7/dist-packages (from qiskit-terra==0.20.2->qiskit) (1.7.1)\n",
            "Requirement already satisfied: dill>=0.3 in /usr/local/lib/python3.7/dist-packages (from qiskit-terra==0.20.2->qiskit) (0.3.5.1)\n",
            "Requirement already satisfied: symengine>=0.9 in /usr/local/lib/python3.7/dist-packages (from qiskit-terra==0.20.2->qiskit) (0.9.2)\n",
            "Requirement already satisfied: ply>=3.10 in /usr/local/lib/python3.7/dist-packages (from qiskit-terra==0.20.2->qiskit) (3.11)\n",
            "Requirement already satisfied: psutil>=5 in /usr/local/lib/python3.7/dist-packages (from qiskit-terra==0.20.2->qiskit) (5.4.8)\n",
            "Requirement already satisfied: six>=1.5 in /usr/local/lib/python3.7/dist-packages (from python-dateutil>=2.8.0->qiskit-ibmq-provider==0.19.1->qiskit) (1.15.0)\n",
            "Requirement already satisfied: chardet<4,>=3.0.2 in /usr/local/lib/python3.7/dist-packages (from requests>=2.19->qiskit-ibmq-provider==0.19.1->qiskit) (3.0.4)\n",
            "Requirement already satisfied: idna<3,>=2.5 in /usr/local/lib/python3.7/dist-packages (from requests>=2.19->qiskit-ibmq-provider==0.19.1->qiskit) (2.10)\n",
            "Requirement already satisfied: certifi>=2017.4.17 in /usr/local/lib/python3.7/dist-packages (from requests>=2.19->qiskit-ibmq-provider==0.19.1->qiskit) (2022.5.18.1)\n",
            "Requirement already satisfied: ntlm-auth>=1.0.2 in /usr/local/lib/python3.7/dist-packages (from requests-ntlm>=1.1.0->qiskit-ibmq-provider==0.19.1->qiskit) (1.5.0)\n",
            "Requirement already satisfied: cryptography>=1.3 in /usr/local/lib/python3.7/dist-packages (from requests-ntlm>=1.1.0->qiskit-ibmq-provider==0.19.1->qiskit) (37.0.2)\n",
            "Requirement already satisfied: cffi>=1.12 in /usr/local/lib/python3.7/dist-packages (from cryptography>=1.3->requests-ntlm>=1.1.0->qiskit-ibmq-provider==0.19.1->qiskit) (1.15.0)\n",
            "Requirement already satisfied: pycparser in /usr/local/lib/python3.7/dist-packages (from cffi>=1.12->cryptography>=1.3->requests-ntlm>=1.1.0->qiskit-ibmq-provider==0.19.1->qiskit) (2.21)\n",
            "Requirement already satisfied: pbr!=2.1.0,>=2.0.0 in /usr/local/lib/python3.7/dist-packages (from stevedore>=3.0.0->qiskit-terra==0.20.2->qiskit) (5.9.0)\n",
            "Requirement already satisfied: importlib-metadata>=1.7.0 in /usr/local/lib/python3.7/dist-packages (from stevedore>=3.0.0->qiskit-terra==0.20.2->qiskit) (4.11.3)\n",
            "Requirement already satisfied: typing-extensions>=3.6.4 in /usr/local/lib/python3.7/dist-packages (from importlib-metadata>=1.7.0->stevedore>=3.0.0->qiskit-terra==0.20.2->qiskit) (4.2.0)\n",
            "Requirement already satisfied: zipp>=0.5 in /usr/local/lib/python3.7/dist-packages (from importlib-metadata>=1.7.0->stevedore>=3.0.0->qiskit-terra==0.20.2->qiskit) (3.8.0)\n",
            "Requirement already satisfied: mpmath>=0.19 in /usr/local/lib/python3.7/dist-packages (from sympy>=1.3->qiskit-terra==0.20.2->qiskit) (1.2.1)\n"
          ]
        }
      ],
      "source": [
        "!pip install qiskit"
      ]
    },
    {
      "cell_type": "code",
      "source": [
        "from qiskit import QuantumCircuit, assemble, Aer\n",
        "import numpy as np\n",
        "from qiskit.visualization import plot_histogram, plot_bloch_vector, array_to_latex, plot_bloch_multivector\n",
        "from math import sqrt, pi\n",
        "from IPython.display import display, Math\n",
        "from qiskit.quantum_info import random_statevector"
      ],
      "metadata": {
        "id": "hY55fnQcuBxY"
      },
      "execution_count": 14,
      "outputs": []
    },
    {
      "cell_type": "code",
      "source": [
        "n = 5\n",
        "secret = \"11101\""
      ],
      "metadata": {
        "id": "vwr6cuP3uB0V"
      },
      "execution_count": 15,
      "outputs": []
    },
    {
      "cell_type": "code",
      "source": [
        "qc = QuantumCircuit(n + 1, n)\n",
        "for i in range(n):\n",
        "    qc.h(i)\n",
        "qc.x(n)\n",
        "qc.h(n)\n",
        "qc.barrier()    \n",
        "qc.draw(initial_state='True')"
      ],
      "metadata": {
        "colab": {
          "base_uri": "https://localhost:8080/",
          "height": 248
        },
        "id": "_-LleqkAuB3b",
        "outputId": "a7549057-acd1-4458-b841-f7b754569433"
      },
      "execution_count": 16,
      "outputs": [
        {
          "output_type": "execute_result",
          "data": {
            "text/plain": [
              "        ┌───┐      ░ \n",
              "q_0: |0>┤ H ├──────░─\n",
              "        ├───┤      ░ \n",
              "q_1: |0>┤ H ├──────░─\n",
              "        ├───┤      ░ \n",
              "q_2: |0>┤ H ├──────░─\n",
              "        ├───┤      ░ \n",
              "q_3: |0>┤ H ├──────░─\n",
              "        ├───┤      ░ \n",
              "q_4: |0>┤ H ├──────░─\n",
              "        ├───┤┌───┐ ░ \n",
              "q_5: |0>┤ X ├┤ H ├─░─\n",
              "        └───┘└───┘ ░ \n",
              " c: 0 5/═════════════\n",
              "                     "
            ],
            "text/html": [
              "<pre style=\"word-wrap: normal;white-space: pre;background: #fff0;line-height: 1.1;font-family: &quot;Courier New&quot;,Courier,monospace\">        ┌───┐      ░ \n",
              "q_0: |0>┤ H ├──────░─\n",
              "        ├───┤      ░ \n",
              "q_1: |0>┤ H ├──────░─\n",
              "        ├───┤      ░ \n",
              "q_2: |0>┤ H ├──────░─\n",
              "        ├───┤      ░ \n",
              "q_3: |0>┤ H ├──────░─\n",
              "        ├───┤      ░ \n",
              "q_4: |0>┤ H ├──────░─\n",
              "        ├───┤┌───┐ ░ \n",
              "q_5: |0>┤ X ├┤ H ├─░─\n",
              "        └───┘└───┘ ░ \n",
              " c: 0 5/═════════════\n",
              "                     </pre>"
            ]
          },
          "metadata": {},
          "execution_count": 16
        }
      ]
    },
    {
      "cell_type": "code",
      "source": [
        "secret = secret[::-1] # reverse secret to fit qiskit's qubit ordering\n",
        "for q in range(n):\n",
        "    if secret[q] == '0':\n",
        "        qc.i(q)\n",
        "    else:\n",
        "        qc.cx(q, n)\n",
        "qc.barrier()\n",
        "qc.draw()        "
      ],
      "metadata": {
        "colab": {
          "base_uri": "https://localhost:8080/",
          "height": 248
        },
        "id": "doO4KA2UuB6P",
        "outputId": "7be9cf20-4a22-4765-daf1-9787791e19f9"
      },
      "execution_count": 17,
      "outputs": [
        {
          "output_type": "execute_result",
          "data": {
            "text/plain": [
              "     ┌───┐      ░                      ░ \n",
              "q_0: ┤ H ├──────░───■──────────────────░─\n",
              "     ├───┤      ░   │  ┌───┐           ░ \n",
              "q_1: ┤ H ├──────░───┼──┤ I ├───────────░─\n",
              "     ├───┤      ░   │  └───┘           ░ \n",
              "q_2: ┤ H ├──────░───┼────■─────────────░─\n",
              "     ├───┤      ░   │    │             ░ \n",
              "q_3: ┤ H ├──────░───┼────┼────■────────░─\n",
              "     ├───┤      ░   │    │    │        ░ \n",
              "q_4: ┤ H ├──────░───┼────┼────┼────■───░─\n",
              "     ├───┤┌───┐ ░ ┌─┴─┐┌─┴─┐┌─┴─┐┌─┴─┐ ░ \n",
              "q_5: ┤ X ├┤ H ├─░─┤ X ├┤ X ├┤ X ├┤ X ├─░─\n",
              "     └───┘└───┘ ░ └───┘└───┘└───┘└───┘ ░ \n",
              "c: 5/════════════════════════════════════\n",
              "                                         "
            ],
            "text/html": [
              "<pre style=\"word-wrap: normal;white-space: pre;background: #fff0;line-height: 1.1;font-family: &quot;Courier New&quot;,Courier,monospace\">     ┌───┐      ░                      ░ \n",
              "q_0: ┤ H ├──────░───■──────────────────░─\n",
              "     ├───┤      ░   │  ┌───┐           ░ \n",
              "q_1: ┤ H ├──────░───┼──┤ I ├───────────░─\n",
              "     ├───┤      ░   │  └───┘           ░ \n",
              "q_2: ┤ H ├──────░───┼────■─────────────░─\n",
              "     ├───┤      ░   │    │             ░ \n",
              "q_3: ┤ H ├──────░───┼────┼────■────────░─\n",
              "     ├───┤      ░   │    │    │        ░ \n",
              "q_4: ┤ H ├──────░───┼────┼────┼────■───░─\n",
              "     ├───┤┌───┐ ░ ┌─┴─┐┌─┴─┐┌─┴─┐┌─┴─┐ ░ \n",
              "q_5: ┤ X ├┤ H ├─░─┤ X ├┤ X ├┤ X ├┤ X ├─░─\n",
              "     └───┘└───┘ ░ └───┘└───┘└───┘└───┘ ░ \n",
              "c: 5/════════════════════════════════════\n",
              "                                         </pre>"
            ]
          },
          "metadata": {},
          "execution_count": 17
        }
      ]
    },
    {
      "cell_type": "code",
      "source": [
        "for i in range(n):\n",
        "    qc.h(i)\n",
        "qc.barrier()\n",
        "qc.draw()"
      ],
      "metadata": {
        "colab": {
          "base_uri": "https://localhost:8080/",
          "height": 248
        },
        "id": "Y-ge1haAuCDI",
        "outputId": "02629044-7446-425b-f1dd-171704963009"
      },
      "execution_count": 18,
      "outputs": [
        {
          "output_type": "execute_result",
          "data": {
            "text/plain": [
              "     ┌───┐      ░                      ░ ┌───┐ ░ \n",
              "q_0: ┤ H ├──────░───■──────────────────░─┤ H ├─░─\n",
              "     ├───┤      ░   │  ┌───┐           ░ ├───┤ ░ \n",
              "q_1: ┤ H ├──────░───┼──┤ I ├───────────░─┤ H ├─░─\n",
              "     ├───┤      ░   │  └───┘           ░ ├───┤ ░ \n",
              "q_2: ┤ H ├──────░───┼────■─────────────░─┤ H ├─░─\n",
              "     ├───┤      ░   │    │             ░ ├───┤ ░ \n",
              "q_3: ┤ H ├──────░───┼────┼────■────────░─┤ H ├─░─\n",
              "     ├───┤      ░   │    │    │        ░ ├───┤ ░ \n",
              "q_4: ┤ H ├──────░───┼────┼────┼────■───░─┤ H ├─░─\n",
              "     ├───┤┌───┐ ░ ┌─┴─┐┌─┴─┐┌─┴─┐┌─┴─┐ ░ └───┘ ░ \n",
              "q_5: ┤ X ├┤ H ├─░─┤ X ├┤ X ├┤ X ├┤ X ├─░───────░─\n",
              "     └───┘└───┘ ░ └───┘└───┘└───┘└───┘ ░       ░ \n",
              "c: 5/════════════════════════════════════════════\n",
              "                                                 "
            ],
            "text/html": [
              "<pre style=\"word-wrap: normal;white-space: pre;background: #fff0;line-height: 1.1;font-family: &quot;Courier New&quot;,Courier,monospace\">     ┌───┐      ░                      ░ ┌───┐ ░ \n",
              "q_0: ┤ H ├──────░───■──────────────────░─┤ H ├─░─\n",
              "     ├───┤      ░   │  ┌───┐           ░ ├───┤ ░ \n",
              "q_1: ┤ H ├──────░───┼──┤ I ├───────────░─┤ H ├─░─\n",
              "     ├───┤      ░   │  └───┘           ░ ├───┤ ░ \n",
              "q_2: ┤ H ├──────░───┼────■─────────────░─┤ H ├─░─\n",
              "     ├───┤      ░   │    │             ░ ├───┤ ░ \n",
              "q_3: ┤ H ├──────░───┼────┼────■────────░─┤ H ├─░─\n",
              "     ├───┤      ░   │    │    │        ░ ├───┤ ░ \n",
              "q_4: ┤ H ├──────░───┼────┼────┼────■───░─┤ H ├─░─\n",
              "     ├───┤┌───┐ ░ ┌─┴─┐┌─┴─┐┌─┴─┐┌─┴─┐ ░ └───┘ ░ \n",
              "q_5: ┤ X ├┤ H ├─░─┤ X ├┤ X ├┤ X ├┤ X ├─░───────░─\n",
              "     └───┘└───┘ ░ └───┘└───┘└───┘└───┘ ░       ░ \n",
              "c: 5/════════════════════════════════════════════\n",
              "                                                 </pre>"
            ]
          },
          "metadata": {},
          "execution_count": 18
        }
      ]
    },
    {
      "cell_type": "code",
      "source": [
        "for i in range(n):\n",
        "    qc.measure(i, i)\n",
        "\n",
        "qc.draw()"
      ],
      "metadata": {
        "colab": {
          "base_uri": "https://localhost:8080/",
          "height": 248
        },
        "id": "FI2PkTcbvV5e",
        "outputId": "66b41eda-e3a4-4834-ac26-89bc6e4b472b"
      },
      "execution_count": 19,
      "outputs": [
        {
          "output_type": "execute_result",
          "data": {
            "text/plain": [
              "     ┌───┐      ░                      ░ ┌───┐ ░ ┌─┐            \n",
              "q_0: ┤ H ├──────░───■──────────────────░─┤ H ├─░─┤M├────────────\n",
              "     ├───┤      ░   │  ┌───┐           ░ ├───┤ ░ └╥┘┌─┐         \n",
              "q_1: ┤ H ├──────░───┼──┤ I ├───────────░─┤ H ├─░──╫─┤M├─────────\n",
              "     ├───┤      ░   │  └───┘           ░ ├───┤ ░  ║ └╥┘┌─┐      \n",
              "q_2: ┤ H ├──────░───┼────■─────────────░─┤ H ├─░──╫──╫─┤M├──────\n",
              "     ├───┤      ░   │    │             ░ ├───┤ ░  ║  ║ └╥┘┌─┐   \n",
              "q_3: ┤ H ├──────░───┼────┼────■────────░─┤ H ├─░──╫──╫──╫─┤M├───\n",
              "     ├───┤      ░   │    │    │        ░ ├───┤ ░  ║  ║  ║ └╥┘┌─┐\n",
              "q_4: ┤ H ├──────░───┼────┼────┼────■───░─┤ H ├─░──╫──╫──╫──╫─┤M├\n",
              "     ├───┤┌───┐ ░ ┌─┴─┐┌─┴─┐┌─┴─┐┌─┴─┐ ░ └───┘ ░  ║  ║  ║  ║ └╥┘\n",
              "q_5: ┤ X ├┤ H ├─░─┤ X ├┤ X ├┤ X ├┤ X ├─░───────░──╫──╫──╫──╫──╫─\n",
              "     └───┘└───┘ ░ └───┘└───┘└───┘└───┘ ░       ░  ║  ║  ║  ║  ║ \n",
              "c: 5/═════════════════════════════════════════════╩══╩══╩══╩══╩═\n",
              "                                                  0  1  2  3  4 "
            ],
            "text/html": [
              "<pre style=\"word-wrap: normal;white-space: pre;background: #fff0;line-height: 1.1;font-family: &quot;Courier New&quot;,Courier,monospace\">     ┌───┐      ░                      ░ ┌───┐ ░ ┌─┐            \n",
              "q_0: ┤ H ├──────░───■──────────────────░─┤ H ├─░─┤M├────────────\n",
              "     ├───┤      ░   │  ┌───┐           ░ ├───┤ ░ └╥┘┌─┐         \n",
              "q_1: ┤ H ├──────░───┼──┤ I ├───────────░─┤ H ├─░──╫─┤M├─────────\n",
              "     ├───┤      ░   │  └───┘           ░ ├───┤ ░  ║ └╥┘┌─┐      \n",
              "q_2: ┤ H ├──────░───┼────■─────────────░─┤ H ├─░──╫──╫─┤M├──────\n",
              "     ├───┤      ░   │    │             ░ ├───┤ ░  ║  ║ └╥┘┌─┐   \n",
              "q_3: ┤ H ├──────░───┼────┼────■────────░─┤ H ├─░──╫──╫──╫─┤M├───\n",
              "     ├───┤      ░   │    │    │        ░ ├───┤ ░  ║  ║  ║ └╥┘┌─┐\n",
              "q_4: ┤ H ├──────░───┼────┼────┼────■───░─┤ H ├─░──╫──╫──╫──╫─┤M├\n",
              "     ├───┤┌───┐ ░ ┌─┴─┐┌─┴─┐┌─┴─┐┌─┴─┐ ░ └───┘ ░  ║  ║  ║  ║ └╥┘\n",
              "q_5: ┤ X ├┤ H ├─░─┤ X ├┤ X ├┤ X ├┤ X ├─░───────░──╫──╫──╫──╫──╫─\n",
              "     └───┘└───┘ ░ └───┘└───┘└───┘└───┘ ░       ░  ║  ║  ║  ║  ║ \n",
              "c: 5/═════════════════════════════════════════════╩══╩══╩══╩══╩═\n",
              "                                                  0  1  2  3  4 </pre>"
            ]
          },
          "metadata": {},
          "execution_count": 19
        }
      ]
    },
    {
      "cell_type": "code",
      "source": [
        "qc_sim = Aer.get_backend('aer_simulator')\n",
        "counts = qc_sim.run(assemble(qc)).result().get_counts()\n",
        "plot_histogram(counts)"
      ],
      "metadata": {
        "colab": {
          "base_uri": "https://localhost:8080/",
          "height": 356
        },
        "id": "IFPM_cD4vlqW",
        "outputId": "b5a02017-b38b-4177-d8ed-571e00d5d5e4"
      },
      "execution_count": 21,
      "outputs": [
        {
          "output_type": "execute_result",
          "data": {
            "text/plain": [
              "<Figure size 504x360 with 1 Axes>"
            ],
            "image/png": "[encoded data removed]"
          },
          "metadata": {},
          "execution_count": 21
        }
      ]
    }
  ]
}