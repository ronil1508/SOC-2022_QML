{
  "nbformat": 4,
  "nbformat_minor": 0,
  "metadata": {
    "colab": {
      "name": "Deutsch_Jozsa_Algorithm.ipynb",
      "provenance": [],
      "authorship_tag": "ABX9TyNdoSuYFcXCUlq4eyWsiNZp",
      "include_colab_link": true
    },
    "kernelspec": {
      "name": "python3",
      "display_name": "Python 3"
    },
    "language_info": {
      "name": "python"
    }
  },
  "cells": [
    {
      "cell_type": "markdown",
      "metadata": {
        "id": "view-in-github",
        "colab_type": "text"
      },
      "source": [
        "<a href=\"https://colab.research.google.com/github/ronil1508/SOC-2022_QML/blob/main/Deutsch_Jozsa_Algorithm.ipynb\" target=\"_parent\"><img src=\"https://colab.research.google.com/assets/colab-badge.svg\" alt=\"Open In Colab\"/></a>"
      ]
    },
    {
      "cell_type": "code",
      "execution_count": 43,
      "metadata": {
        "colab": {
          "base_uri": "https://localhost:8080/"
        },
        "id": "cHguDEHX3G6S",
        "outputId": "b473a10e-9cc6-4ebe-b486-ee0c92233e1e"
      },
      "outputs": [
        {
          "output_type": "stream",
          "name": "stdout",
          "text": [
            "Looking in indexes: https://pypi.org/simple, https://us-python.pkg.dev/colab-wheels/public/simple/\n",
            "Requirement already satisfied: qiskit in /usr/local/lib/python3.7/dist-packages (0.36.2)\n",
            "Requirement already satisfied: qiskit-ibmq-provider==0.19.1 in /usr/local/lib/python3.7/dist-packages (from qiskit) (0.19.1)\n",
            "Requirement already satisfied: qiskit-aer==0.10.4 in /usr/local/lib/python3.7/dist-packages (from qiskit) (0.10.4)\n",
            "Requirement already satisfied: qiskit-ignis==0.7.1 in /usr/local/lib/python3.7/dist-packages (from qiskit) (0.7.1)\n",
            "Requirement already satisfied: qiskit-terra==0.20.2 in /usr/local/lib/python3.7/dist-packages (from qiskit) (0.20.2)\n",
            "Requirement already satisfied: numpy>=1.16.3 in /usr/local/lib/python3.7/dist-packages (from qiskit-aer==0.10.4->qiskit) (1.21.6)\n",
            "Requirement already satisfied: scipy>=1.0 in /usr/local/lib/python3.7/dist-packages (from qiskit-aer==0.10.4->qiskit) (1.7.3)\n",
            "Requirement already satisfied: requests>=2.19 in /usr/local/lib/python3.7/dist-packages (from qiskit-ibmq-provider==0.19.1->qiskit) (2.23.0)\n",
            "Requirement already satisfied: requests-ntlm>=1.1.0 in /usr/local/lib/python3.7/dist-packages (from qiskit-ibmq-provider==0.19.1->qiskit) (1.1.0)\n",
            "Requirement already satisfied: websocket-client>=1.0.1 in /usr/local/lib/python3.7/dist-packages (from qiskit-ibmq-provider==0.19.1->qiskit) (1.3.2)\n",
            "Requirement already satisfied: urllib3>=1.21.1 in /usr/local/lib/python3.7/dist-packages (from qiskit-ibmq-provider==0.19.1->qiskit) (1.24.3)\n",
            "Requirement already satisfied: websockets>=10.0 in /usr/local/lib/python3.7/dist-packages (from qiskit-ibmq-provider==0.19.1->qiskit) (10.3)\n",
            "Requirement already satisfied: python-dateutil>=2.8.0 in /usr/local/lib/python3.7/dist-packages (from qiskit-ibmq-provider==0.19.1->qiskit) (2.8.2)\n",
            "Requirement already satisfied: retworkx>=0.8.0 in /usr/local/lib/python3.7/dist-packages (from qiskit-ignis==0.7.1->qiskit) (0.11.0)\n",
            "Requirement already satisfied: setuptools>=40.1.0 in /usr/local/lib/python3.7/dist-packages (from qiskit-ignis==0.7.1->qiskit) (57.4.0)\n",
            "Requirement already satisfied: symengine>=0.9 in /usr/local/lib/python3.7/dist-packages (from qiskit-terra==0.20.2->qiskit) (0.9.2)\n",
            "Requirement already satisfied: ply>=3.10 in /usr/local/lib/python3.7/dist-packages (from qiskit-terra==0.20.2->qiskit) (3.11)\n",
            "Requirement already satisfied: psutil>=5 in /usr/local/lib/python3.7/dist-packages (from qiskit-terra==0.20.2->qiskit) (5.4.8)\n",
            "Requirement already satisfied: dill>=0.3 in /usr/local/lib/python3.7/dist-packages (from qiskit-terra==0.20.2->qiskit) (0.3.5.1)\n",
            "Requirement already satisfied: python-constraint>=1.4 in /usr/local/lib/python3.7/dist-packages (from qiskit-terra==0.20.2->qiskit) (1.4.0)\n",
            "Requirement already satisfied: tweedledum<2.0,>=1.1 in /usr/local/lib/python3.7/dist-packages (from qiskit-terra==0.20.2->qiskit) (1.1.1)\n",
            "Requirement already satisfied: sympy>=1.3 in /usr/local/lib/python3.7/dist-packages (from qiskit-terra==0.20.2->qiskit) (1.7.1)\n",
            "Requirement already satisfied: stevedore>=3.0.0 in /usr/local/lib/python3.7/dist-packages (from qiskit-terra==0.20.2->qiskit) (3.5.0)\n",
            "Requirement already satisfied: six>=1.5 in /usr/local/lib/python3.7/dist-packages (from python-dateutil>=2.8.0->qiskit-ibmq-provider==0.19.1->qiskit) (1.15.0)\n",
            "Requirement already satisfied: chardet<4,>=3.0.2 in /usr/local/lib/python3.7/dist-packages (from requests>=2.19->qiskit-ibmq-provider==0.19.1->qiskit) (3.0.4)\n",
            "Requirement already satisfied: certifi>=2017.4.17 in /usr/local/lib/python3.7/dist-packages (from requests>=2.19->qiskit-ibmq-provider==0.19.1->qiskit) (2022.5.18.1)\n",
            "Requirement already satisfied: idna<3,>=2.5 in /usr/local/lib/python3.7/dist-packages (from requests>=2.19->qiskit-ibmq-provider==0.19.1->qiskit) (2.10)\n",
            "Requirement already satisfied: ntlm-auth>=1.0.2 in /usr/local/lib/python3.7/dist-packages (from requests-ntlm>=1.1.0->qiskit-ibmq-provider==0.19.1->qiskit) (1.5.0)\n",
            "Requirement already satisfied: cryptography>=1.3 in /usr/local/lib/python3.7/dist-packages (from requests-ntlm>=1.1.0->qiskit-ibmq-provider==0.19.1->qiskit) (37.0.2)\n",
            "Requirement already satisfied: cffi>=1.12 in /usr/local/lib/python3.7/dist-packages (from cryptography>=1.3->requests-ntlm>=1.1.0->qiskit-ibmq-provider==0.19.1->qiskit) (1.15.0)\n",
            "Requirement already satisfied: pycparser in /usr/local/lib/python3.7/dist-packages (from cffi>=1.12->cryptography>=1.3->requests-ntlm>=1.1.0->qiskit-ibmq-provider==0.19.1->qiskit) (2.21)\n",
            "Requirement already satisfied: pbr!=2.1.0,>=2.0.0 in /usr/local/lib/python3.7/dist-packages (from stevedore>=3.0.0->qiskit-terra==0.20.2->qiskit) (5.9.0)\n",
            "Requirement already satisfied: importlib-metadata>=1.7.0 in /usr/local/lib/python3.7/dist-packages (from stevedore>=3.0.0->qiskit-terra==0.20.2->qiskit) (4.11.3)\n",
            "Requirement already satisfied: zipp>=0.5 in /usr/local/lib/python3.7/dist-packages (from importlib-metadata>=1.7.0->stevedore>=3.0.0->qiskit-terra==0.20.2->qiskit) (3.8.0)\n",
            "Requirement already satisfied: typing-extensions>=3.6.4 in /usr/local/lib/python3.7/dist-packages (from importlib-metadata>=1.7.0->stevedore>=3.0.0->qiskit-terra==0.20.2->qiskit) (4.2.0)\n",
            "Requirement already satisfied: mpmath>=0.19 in /usr/local/lib/python3.7/dist-packages (from sympy>=1.3->qiskit-terra==0.20.2->qiskit) (1.2.1)\n"
          ]
        }
      ],
      "source": [
        "!pip install qiskit\n"
      ]
    },
    {
      "cell_type": "code",
      "source": [
        "from qiskit import QuantumCircuit, assemble, Aer\n",
        "import numpy as np\n",
        "from qiskit.visualization import plot_histogram, plot_bloch_vector, array_to_latex, plot_bloch_multivector\n",
        "from math import sqrt, pi\n",
        "from IPython.display import display, Math"
      ],
      "metadata": {
        "id": "MFRFAc1L3W3c"
      },
      "execution_count": 44,
      "outputs": []
    },
    {
      "cell_type": "code",
      "source": [
        "function = 'balanced'\n",
        "n = 4"
      ],
      "metadata": {
        "id": "Ti5SOA5-3W7c"
      },
      "execution_count": 54,
      "outputs": []
    },
    {
      "cell_type": "code",
      "source": [
        "constant_oracle = QuantumCircuit(n + 1)\n",
        "random_bit = np.random.randint(2)\n",
        "if random_bit == 1:\n",
        "    constant_oracle.x(n)"
      ],
      "metadata": {
        "id": "Lfd0aguu3W-v"
      },
      "execution_count": 55,
      "outputs": []
    },
    {
      "cell_type": "code",
      "source": [
        "balanced_oracle = QuantumCircuit(n + 1)\n",
        "random_num = np.random.randint(1,2**n)\n",
        "random_str =  format(random_num,'0' + str(n) +'b')\n",
        "for i in range(n):\n",
        "    if random_str[i] == \"1\":\n",
        "        balanced_oracle.x(i)\n",
        "for i in range(n):\n",
        "    balanced_oracle.cx(i, n)\n",
        "for i in range(n):\n",
        "    if random_str[i] == \"1\":\n",
        "        balanced_oracle.x(i)\n"
      ],
      "metadata": {
        "id": "nfSgRwz73XCu"
      },
      "execution_count": 56,
      "outputs": []
    },
    {
      "cell_type": "code",
      "source": [
        "constant_oracle.draw(initial_state =True)"
      ],
      "metadata": {
        "id": "ejIHZhU93XG6",
        "colab": {
          "base_uri": "https://localhost:8080/",
          "height": 186
        },
        "outputId": "dacc91f6-d301-4ef9-95b7-42e245a379c7"
      },
      "execution_count": 57,
      "outputs": [
        {
          "output_type": "execute_result",
          "data": {
            "text/plain": [
              "        \n",
              "q_0: |0>\n",
              "        \n",
              "q_1: |0>\n",
              "        \n",
              "q_2: |0>\n",
              "        \n",
              "q_3: |0>\n",
              "        \n",
              "q_4: |0>\n",
              "        "
            ],
            "text/html": [
              "<pre style=\"word-wrap: normal;white-space: pre;background: #fff0;line-height: 1.1;font-family: &quot;Courier New&quot;,Courier,monospace\">        \n",
              "q_0: |0>\n",
              "        \n",
              "q_1: |0>\n",
              "        \n",
              "q_2: |0>\n",
              "        \n",
              "q_3: |0>\n",
              "        \n",
              "q_4: |0>\n",
              "        </pre>"
            ]
          },
          "metadata": {},
          "execution_count": 57
        }
      ]
    },
    {
      "cell_type": "code",
      "source": [
        "balanced_oracle.draw(initial_state =True)"
      ],
      "metadata": {
        "colab": {
          "base_uri": "https://localhost:8080/",
          "height": 186
        },
        "id": "uca_mLTpNzlI",
        "outputId": "2fc58272-18a5-4dd0-9aa8-703cc0bfbc3c"
      },
      "execution_count": 58,
      "outputs": [
        {
          "output_type": "execute_result",
          "data": {
            "text/plain": [
              "                                      \n",
              "q_0: |0>───────■──────────────────────\n",
              "               │                      \n",
              "q_1: |0>───────┼────■─────────────────\n",
              "               │    │                 \n",
              "q_2: |0>───────┼────┼────■────────────\n",
              "        ┌───┐  │    │    │       ┌───┐\n",
              "q_3: |0>┤ X ├──┼────┼────┼────■──┤ X ├\n",
              "        └───┘┌─┴─┐┌─┴─┐┌─┴─┐┌─┴─┐└───┘\n",
              "q_4: |0>─────┤ X ├┤ X ├┤ X ├┤ X ├─────\n",
              "             └───┘└───┘└───┘└───┘     "
            ],
            "text/html": [
              "<pre style=\"word-wrap: normal;white-space: pre;background: #fff0;line-height: 1.1;font-family: &quot;Courier New&quot;,Courier,monospace\">                                      \n",
              "q_0: |0>───────■──────────────────────\n",
              "               │                      \n",
              "q_1: |0>───────┼────■─────────────────\n",
              "               │    │                 \n",
              "q_2: |0>───────┼────┼────■────────────\n",
              "        ┌───┐  │    │    │       ┌───┐\n",
              "q_3: |0>┤ X ├──┼────┼────┼────■──┤ X ├\n",
              "        └───┘┌─┴─┐┌─┴─┐┌─┴─┐┌─┴─┐└───┘\n",
              "q_4: |0>─────┤ X ├┤ X ├┤ X ├┤ X ├─────\n",
              "             └───┘└───┘└───┘└───┘     </pre>"
            ]
          },
          "metadata": {},
          "execution_count": 58
        }
      ]
    },
    {
      "cell_type": "code",
      "source": [
        "qc = QuantumCircuit(n+1,n)\n",
        "qc.x(n)\n",
        "for j in range(0,n+1):\n",
        "    qc.h(j)\n",
        "qc.draw(initial_state =True)"
      ],
      "metadata": {
        "colab": {
          "base_uri": "https://localhost:8080/",
          "height": 217
        },
        "id": "sRtG0JdTOAVM",
        "outputId": "d9cf5885-e262-4b66-c12e-04ccaba2833b"
      },
      "execution_count": 59,
      "outputs": [
        {
          "output_type": "execute_result",
          "data": {
            "text/plain": [
              "        ┌───┐     \n",
              "q_0: |0>┤ H ├─────\n",
              "        ├───┤     \n",
              "q_1: |0>┤ H ├─────\n",
              "        ├───┤     \n",
              "q_2: |0>┤ H ├─────\n",
              "        ├───┤     \n",
              "q_3: |0>┤ H ├─────\n",
              "        ├───┤┌───┐\n",
              "q_4: |0>┤ X ├┤ H ├\n",
              "        └───┘└───┘\n",
              " c: 0 4/══════════\n",
              "                  "
            ],
            "text/html": [
              "<pre style=\"word-wrap: normal;white-space: pre;background: #fff0;line-height: 1.1;font-family: &quot;Courier New&quot;,Courier,monospace\">        ┌───┐     \n",
              "q_0: |0>┤ H ├─────\n",
              "        ├───┤     \n",
              "q_1: |0>┤ H ├─────\n",
              "        ├───┤     \n",
              "q_2: |0>┤ H ├─────\n",
              "        ├───┤     \n",
              "q_3: |0>┤ H ├─────\n",
              "        ├───┤┌───┐\n",
              "q_4: |0>┤ X ├┤ H ├\n",
              "        └───┘└───┘\n",
              " c: 0 4/══════════\n",
              "                  </pre>"
            ]
          },
          "metadata": {},
          "execution_count": 59
        }
      ]
    },
    {
      "cell_type": "code",
      "source": [
        "qc.barrier()\n",
        "if function == 'balanced':\n",
        "    qc = qc.compose(balanced_oracle)\n",
        "else:\n",
        "    qc = qc.compose(constant_oracle)\n",
        "qc.barrier()\n",
        "for i in range(n):\n",
        "    qc.h(i)\n",
        "for i in range(n):\n",
        "    qc.measure(i, i)\n",
        "qc.draw()"
      ],
      "metadata": {
        "colab": {
          "base_uri": "https://localhost:8080/",
          "height": 217
        },
        "id": "3-GoJz7nOAYD",
        "outputId": "3d870d17-52f3-4c10-f547-0d27d4f1a1c5"
      },
      "execution_count": 60,
      "outputs": [
        {
          "output_type": "execute_result",
          "data": {
            "text/plain": [
              "     ┌───┐      ░                                ░ ┌───┐┌─┐         \n",
              "q_0: ┤ H ├──────░────────■───────────────────────░─┤ H ├┤M├─────────\n",
              "     ├───┤      ░        │                       ░ ├───┤└╥┘┌─┐      \n",
              "q_1: ┤ H ├──────░────────┼────■──────────────────░─┤ H ├─╫─┤M├──────\n",
              "     ├───┤      ░        │    │                  ░ ├───┤ ║ └╥┘┌─┐   \n",
              "q_2: ┤ H ├──────░────────┼────┼────■─────────────░─┤ H ├─╫──╫─┤M├───\n",
              "     ├───┤      ░ ┌───┐  │    │    │       ┌───┐ ░ ├───┤ ║  ║ └╥┘┌─┐\n",
              "q_3: ┤ H ├──────░─┤ X ├──┼────┼────┼────■──┤ X ├─░─┤ H ├─╫──╫──╫─┤M├\n",
              "     ├───┤┌───┐ ░ └───┘┌─┴─┐┌─┴─┐┌─┴─┐┌─┴─┐└───┘ ░ └───┘ ║  ║  ║ └╥┘\n",
              "q_4: ┤ X ├┤ H ├─░──────┤ X ├┤ X ├┤ X ├┤ X ├──────░───────╫──╫──╫──╫─\n",
              "     └───┘└───┘ ░      └───┘└───┘└───┘└───┘      ░       ║  ║  ║  ║ \n",
              "c: 4/════════════════════════════════════════════════════╩══╩══╩══╩═\n",
              "                                                         0  1  2  3 "
            ],
            "text/html": [
              "<pre style=\"word-wrap: normal;white-space: pre;background: #fff0;line-height: 1.1;font-family: &quot;Courier New&quot;,Courier,monospace\">     ┌───┐      ░                                ░ ┌───┐┌─┐         \n",
              "q_0: ┤ H ├──────░────────■───────────────────────░─┤ H ├┤M├─────────\n",
              "     ├───┤      ░        │                       ░ ├───┤└╥┘┌─┐      \n",
              "q_1: ┤ H ├──────░────────┼────■──────────────────░─┤ H ├─╫─┤M├──────\n",
              "     ├───┤      ░        │    │                  ░ ├───┤ ║ └╥┘┌─┐   \n",
              "q_2: ┤ H ├──────░────────┼────┼────■─────────────░─┤ H ├─╫──╫─┤M├───\n",
              "     ├───┤      ░ ┌───┐  │    │    │       ┌───┐ ░ ├───┤ ║  ║ └╥┘┌─┐\n",
              "q_3: ┤ H ├──────░─┤ X ├──┼────┼────┼────■──┤ X ├─░─┤ H ├─╫──╫──╫─┤M├\n",
              "     ├───┤┌───┐ ░ └───┘┌─┴─┐┌─┴─┐┌─┴─┐┌─┴─┐└───┘ ░ └───┘ ║  ║  ║ └╥┘\n",
              "q_4: ┤ X ├┤ H ├─░──────┤ X ├┤ X ├┤ X ├┤ X ├──────░───────╫──╫──╫──╫─\n",
              "     └───┘└───┘ ░      └───┘└───┘└───┘└───┘      ░       ║  ║  ║  ║ \n",
              "c: 4/════════════════════════════════════════════════════╩══╩══╩══╩═\n",
              "                                                         0  1  2  3 </pre>"
            ]
          },
          "metadata": {},
          "execution_count": 60
        }
      ]
    },
    {
      "cell_type": "code",
      "source": [
        "qc_sim = Aer.get_backend('aer_simulator')"
      ],
      "metadata": {
        "id": "BO4HWF0xOAhf"
      },
      "execution_count": 61,
      "outputs": []
    },
    {
      "cell_type": "code",
      "source": [
        "counts = qc_sim.run(assemble(qc)).result().get_counts()\n",
        "print(counts)\n",
        "plot_histogram(counts) "
      ],
      "metadata": {
        "colab": {
          "base_uri": "https://localhost:8080/",
          "height": 365
        },
        "id": "cvubJd8eRLYi",
        "outputId": "7da36173-c0e0-4fb7-ee5a-a2ccda74122b"
      },
      "execution_count": 62,
      "outputs": [
        {
          "output_type": "stream",
          "name": "stdout",
          "text": [
            "{'1111': 1024}\n"
          ]
        },
        {
          "output_type": "execute_result",
          "data": {
            "text/plain": [
              "<Figure size 504x360 with 1 Axes>"
            ],
            "image/png": "[encoded data removed]"
          },
          "metadata": {},
          "execution_count": 62
        }
      ]
    }
  ]
}